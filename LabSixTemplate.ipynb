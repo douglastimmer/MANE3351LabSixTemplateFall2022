{
 "cells": [
  {
   "cell_type": "markdown",
   "metadata": {},
   "source": [
    "# MANE 3351\n",
    "## Laboratory Three\n",
    "### My Name\n",
    "### My student id number"
   ]
  },
  {
   "cell_type": "code",
   "execution_count": 1,
   "metadata": {},
   "outputs": [],
   "source": [
    "# Cell 2, scalar function"
   ]
  },
  {
   "cell_type": "code",
   "execution_count": 2,
   "metadata": {},
   "outputs": [
    {
     "name": "stdout",
     "output_type": "stream",
     "text": [
      "[0.5        0.61111111 0.72222222 0.83333333 0.94444444 1.05555556\n",
      " 1.16666667 1.27777778 1.38888889 1.5       ]\n"
     ]
    }
   ],
   "source": [
    "# Cell 3, vectorized function\n",
    "# requires function from cell 2\n",
    "import numpy as np\n",
    "\n",
    "x=np.linspace(0.5,1.5,10)\n",
    "print(x)\n"
   ]
  }
 ],
 "metadata": {
  "kernelspec": {
   "display_name": "Python 3",
   "language": "python",
   "name": "python3"
  },
  "language_info": {
   "codemirror_mode": {
    "name": "ipython",
    "version": 3
   },
   "file_extension": ".py",
   "mimetype": "text/x-python",
   "name": "python",
   "nbconvert_exporter": "python",
   "pygments_lexer": "ipython3",
   "version": "3.7.3"
  }
 },
 "nbformat": 4,
 "nbformat_minor": 2
}
